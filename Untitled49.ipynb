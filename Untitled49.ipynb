{
  "nbformat": 4,
  "nbformat_minor": 0,
  "metadata": {
    "colab": {
      "provenance": []
    },
    "kernelspec": {
      "name": "python3",
      "display_name": "Python 3"
    },
    "language_info": {
      "name": "python"
    }
  },
  "cells": [
    {
      "cell_type": "code",
      "execution_count": 1,
      "metadata": {
        "id": "rYX5ipjrb_vx",
        "outputId": "9b72b8a5-d86b-4216-9dc7-62a64d859a69",
        "colab": {
          "base_uri": "https://localhost:8080/"
        }
      },
      "outputs": [
        {
          "output_type": "stream",
          "name": "stdout",
          "text": [
            "Notebook cleaned and saved as: /content/chatbot_cleaned_for_github.ipynb\n"
          ]
        }
      ],
      "source": [
        "import nbformat\n",
        "from nbformat import write\n",
        "\n",
        "# Load your uploaded notebook\n",
        "notebook_path = \"/content/chatbot (1).ipynb\"\n",
        "with open(notebook_path, \"r\", encoding=\"utf-8\") as f:\n",
        "    notebook = nbformat.read(f, as_version=4)\n",
        "\n",
        "# Remove widget metadata\n",
        "if 'widgets' in notebook['metadata']:\n",
        "    del notebook['metadata']['widgets']\n",
        "\n",
        "# Clear outputs and execution counts\n",
        "for cell in notebook['cells']:\n",
        "    if 'outputs' in cell:\n",
        "        cell['outputs'] = []\n",
        "    if 'execution_count' in cell:\n",
        "        cell['execution_count'] = None\n",
        "\n",
        "# Save cleaned version\n",
        "cleaned_path = \"/content/chatbot_cleaned_for_github.ipynb\"\n",
        "with open(cleaned_path, \"w\", encoding=\"utf-8\") as f:\n",
        "    write(notebook, f)\n",
        "\n",
        "print(\"Notebook cleaned and saved as:\", cleaned_path)\n"
      ]
    }
  ]
}