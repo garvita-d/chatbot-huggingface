{
 "cells": [
  {
   "cell_type": "code",
   "execution_count": null,
   "metadata": {
    "colab": {
     "base_uri": "https://localhost:8080/"
    },
    "id": "s2rI5FqM362Z",
    "outputId": "b9277d0b-752c-4cb7-f1ca-086d9ef15b9d"
   },
   "outputs": [],
   "source": [
    "\n",
    "!pip install llama-index\n",
    "!pip install llama-index-embeddings-huggingface\n",
    "!pip install peft\n",
    "!pip install auto-gptq\n",
    "!pip install optimum\n",
    "!pip install bitsandbytes\n",
    "!pip install gradio\n",
    "!pip install pymupdf\n"
   ]
  },
  {
   "cell_type": "code",
   "execution_count": null,
   "metadata": {
    "id": "2Mwjt4SW4BsS"
   },
   "outputs": [],
   "source": [
    "\n",
    "from llama_index.embeddings.huggingface import HuggingFaceEmbedding\n",
    "from llama_index.core import Settings, SimpleDirectoryReader, VectorStoreIndex\n",
    "from llama_index.readers.file import PyMuPDFReader\n",
    "from llama_index.core.retrievers import VectorIndexRetriever\n",
    "from llama_index.core.query_engine import RetrieverQueryEngine\n",
    "from llama_index.core.postprocessor import SimilarityPostprocessor\n"
   ]
  },
  {
   "cell_type": "code",
   "execution_count": null,
   "metadata": {
    "colab": {
     "base_uri": "https://localhost:8080/",
     "height": 515,
     "referenced_widgets": [
      "95b196ff44584ff7b48804d99bf55aad",
      "41fb0a0f719a4e6da01fbe6c230cced4",
      "3d94e2a95b584939bfe387445c3bb1c4",
      "c9d2b219c23f4025b1cab6e135237719",
      "5c2ebcb2cdc144689b2ffda1501c2862",
      "5f2d363ee1bf4e098b96acef2b5d444c",
      "0ade4a38fbe8459ea2e1c9c1b8f47986",
      "c6614b23f15b4fd6952ab3741b9364da",
      "545cb905218040edb1b5f55ff5c62855",
      "691cfa1305094c02a74cc1620b926a26",
      "839740a612e04738898c4158af962ad5",
      "d20a1257c3124016a55ab09ca155aea0",
      "7655940b5505496792982e18a4cf25c4",
      "b9c5d06ef6454588ababd27d32165a57",
      "d679be7aa8954016bb5dd60105e05093",
      "cc6e42fb65d94a31b9579644f930fde6",
      "7367f7f8da4f4903a688942cd3639200",
      "eed086dcf0944bd086785c472267c2d3",
      "a42bd1c6f2f84792bedf1dcf6455aab9",
      "c7d2b7c9b87c49f4b066b512e7ed6993",
      "a01416bc04e94b288a9e302df89514c8",
      "348de153efcc430ab03605ccdb103e65",
      "fa8073c77a0f49caa79500b248b1af02",
      "9dbc0138c7e74aed96bfef60ee0fa0e9",
      "b9f8e631db0f4f0aa47230805461bb8d",
      "18e83071553a424e8d398854a2a56d8f",
      "beb91ef231ba4d2084045c2807cb58e7",
      "242918e5796c49a5b6a1361e6e460c96",
      "32385eba63c84821b8730d4d72101f28",
      "fc59e1561c284e4a8ed16bed06f8d93b",
      "e62a2e895afc451bb0402a827040e727",
      "8d33402faddd474e9bee9925b27664d4",
      "9a4c10a2eac14ec6b70209a435d8b69b",
      "104c8f73da054b17b0d2d204b84d1522",
      "5c1efdccbf6a46bb8b491dd628bbe1b3",
      "3b71f10bd71f4a92830d34b1221b2036",
      "afcb99f2ca6742599c80817ca4c85c80",
      "2f6f45f6582b46d7a052df5279821604",
      "f26e4ed8d0a84217ab9850106f801e6c",
      "4aa0fa29ffe341dba904fed4db3b30d2",
      "1653be27ed07443ab7b9bfd4a0fccd5d",
      "ace39f3634c6496aa94b9debda4889f2",
      "8ab7d5f664864825bc2e4b0b7c617f12",
      "29cbe4c0261040ee8fbf5e8862dee4b8",
      "85ddb14a25034fbaab1bdf55df28022c",
      "2ca6a940caa64e09aa13624c0759f7ae",
      "6310de286fa640eaa60f370713fe08e3",
      "a4a69eea7f9c48ab90874dff7ff8f62f",
      "05e222860a4645e1a6b6b9662467cdc9",
      "04e8382d0dda4b54ab7b7a098e50d662",
      "2db1b17c3c8849cd9c75fe55ba7a33d9",
      "240f2577ee1345f49d8b31fa5c54a239",
      "0adb5f6ebc2f4fd695c89f8221518baf",
      "08df8b55f9284359a73280ef4a5559d7",
      "0de63647a9dd4860b13267eb2b91d6ad",
      "3d08092fc4224316a1ccbe9d5297b187",
      "4493610f872242c5a5b797c8ea03fadc",
      "4f2afaeedf414f1d9dbeaccbc544d8b3",
      "eee993de636b4c93b9784f9ff16e6108",
      "691768c20c23472da8adad83880f07eb",
      "2a15fd25360e4c4b9fd009fe52888615",
      "9cf76153e97d442d95ced55e3b3bf0ab",
      "68b5c155b52a4bfe8f2548f75cdc9c30",
      "c04d5bd6ee0240348904173e02020a4d",
      "22678f2c15c1487092d801bc0d849cdb",
      "f15e6df005d4440ea520e64fc3406123",
      "763f78bb9564496688023e0689e8022b",
      "18f3e73254bd4f0aafc837ec1d807ee8",
      "0b6cdee554264463babad2f06ae9af07",
      "27705b8686ea4efabbd7d77947142b70",
      "e3f14d851ff64d68a22d0c2cd22c555d",
      "77e4058761724013afc7617848fed957",
      "438ef56386f44faebb098af65483a7b1",
      "444c1eb1f6cd4e1d8d9008982a668280",
      "cd20564826ed4a6daad906dbaa11da53",
      "364854d59ae34a9a95c83a4a92758e7b",
      "759ee70b5f954ad5a97edac530543ed7",
      "1736b07ee0a74ae7b4c92684c2b42c6a",
      "863ed6a2129043b1b2a3289f18043062",
      "e4fac86a7396428881059a1baf220782",
      "32d5edb1c7d84c1dbbdf6fb0571b24e6",
      "a7bc1156416f4b7684d608029fadfaef",
      "91ae19deb82f4eb0bca9dc2f34b6c63f",
      "4f5720c274a84befb298de7f6f581ef4",
      "a47c896b6b064613aa9c6d892b894ef8",
      "ac9ca4bedfd54c56a6eeadd3197537ca",
      "ab3f94df65b04d2a8caad6772a6b3fc6",
      "9217fa5d1a244b8291857c5dc98cf9ea",
      "cfe249e3d1814fc8a589f7aca313c057",
      "fad3fc9b0c3c41528b8a9b6de09a2a64",
      "25d3f2f028964f21b9249f243e513f7a",
      "b1183c4393e4448f9ffc598dc8b4e055",
      "2cda03bca1f045d3a107c1051d124e35",
      "e7e59317ecb44e85a3f8b9a2fb11e48c",
      "d9b7e8114bcc4f24991a4e5b7702db37",
      "cd59d31db25e41548372c2e671b00136",
      "0fe3e90abfa446b6abbdcb9be82fabb0",
      "3f99f095adaa4f408eddc2e502e6e894",
      "8c96dab91553434dae95752f5ca3b45d",
      "ce527fcaf9f64696be8559f7f4c8c826",
      "1d6b9b6d0a6a4599bda007810318187a",
      "ff036a0197434e5a91c4e04886cd8c63",
      "9b249f73983143bab51c943dd1b560db",
      "e80f2429cd5a456684134774ed7f951d",
      "b64d953a0edf47008c784a739c0e4bab",
      "32538f8464154907ab47cd6f56820f66",
      "a976208036644eb2b15d51fc635819ef",
      "96d49eed1f3843f596b89920caa4a3d4",
      "309b9307a596440fa8d9eed3174db22d",
      "98584ed9ee2244ea9a68c6c0c7d10e75",
      "8f3fbddf6f08423888ebf977c9543a0c",
      "6238a667a5784ef6a348e32ff1b7bc5f",
      "5107e9515b62417b9c17356f94c60151",
      "23d4c443db1e479e8301ee5862cf8e87",
      "cada92eecf0748088521d7c46d551464",
      "24dbe8b150ca44d6a82034f2fea25492",
      "8b4a4bc66ff644e7811e7c43c3902d68",
      "27c0517b04ed4a338f2229416c752103",
      "56e8ce2129f14d2ca28fe583a2a46cbc",
      "89dc23f3227a4bf68bb2ec77e3d36c27",
      "25a4a0f26e41496bb62ee335e2296d5f"
     ]
    },
    "id": "VWbtsGde4np9",
    "outputId": "6454ff85-1cfc-40a0-be8f-862120db821d"
   },
   "outputs": [],
   "source": [
    "\n",
    "Settings.embed_model = HuggingFaceEmbedding(model_name= \"BAAI/bge-small-en-v1.5\")\n",
    "Settings.llm = None\n",
    "Settings.chunk_size = 256\n",
    "Settings.chunk_overlap = 25\n"
   ]
  },
  {
   "cell_type": "code",
   "execution_count": null,
   "metadata": {
    "id": "WZpo6EEb4qt0"
   },
   "outputs": [],
   "source": [
    "\n",
    "pdf_loader = PyMuPDFReader()\n",
    "pages = pdf_loader.load_data(\"/content/BotGenesis/MATRIX_CRITICAL_REVIEW_cinema&philosophy_SE22UCSE106.pdf\")\n"
   ]
  },
  {
   "cell_type": "code",
   "execution_count": null,
   "metadata": {
    "colab": {
     "base_uri": "https://localhost:8080/"
    },
    "id": "1r3znxVY5QBj",
    "outputId": "191b8951-7e53-42c4-a0d3-60a28dbbff49"
   },
   "outputs": [],
   "source": [
    "\n",
    "print(len(pages))\n"
   ]
  },
  {
   "cell_type": "code",
   "execution_count": null,
   "metadata": {
    "id": "ypIfk3WG5Thp"
   },
   "outputs": [],
   "source": [
    "\n",
    "index = VectorStoreIndex.from_documents(pages)\n"
   ]
  },
  {
   "cell_type": "code",
   "execution_count": null,
   "metadata": {
    "id": "NW64R6Ey5WYs"
   },
   "outputs": [],
   "source": [
    "\n",
    "top_k = 13\n",
    "\n",
    "retriever = VectorIndexRetriever(\n",
    "    index = index,\n",
    "    similarity_top_k= top_k,\n",
    ")\n"
   ]
  },
  {
   "cell_type": "code",
   "execution_count": null,
   "metadata": {
    "id": "GgsO2fMG5Z9O"
   },
   "outputs": [],
   "source": [
    "\n",
    "query_engine = RetrieverQueryEngine(\n",
    "    retriever= retriever,\n",
    "    node_postprocessors= [SimilarityPostprocessor(similarity_cutoff=0.5)]\n",
    ")\n"
   ]
  },
  {
   "cell_type": "code",
   "execution_count": null,
   "metadata": {
    "id": "-ker4TTc5c3F"
   },
   "outputs": [],
   "source": [
    "\n",
    "query = \"Who embodies the quote IGNORANCE IS BLISS\"\n",
    "response = query_engine.query(query)\n"
   ]
  },
  {
   "cell_type": "code",
   "execution_count": null,
   "metadata": {
    "colab": {
     "base_uri": "https://localhost:8080/"
    },
    "id": "wUYiIjxE5foq",
    "outputId": "6dcc425b-97c5-4c8f-fa8d-f4c02dccc588"
   },
   "outputs": [],
   "source": [
    "\n",
    "context = \"Context: \\n\"\n",
    "for i in range(top_k):\n",
    "  context = context + response.source_nodes[i].text + \"\\n\\n\"\n",
    "print(context)\n"
   ]
  },
  {
   "cell_type": "code",
   "execution_count": null,
   "metadata": {
    "colab": {
     "base_uri": "https://localhost:8080/"
    },
    "id": "qZOUs6MP5jMO",
    "outputId": "6950a69b-8405-455a-87c9-147c4c34c36d"
   },
   "outputs": [],
   "source": [
    "\n",
    "print(len(response.source_nodes))  # Check how many chunks were retrieved\n"
   ]
  },
  {
   "cell_type": "code",
   "execution_count": null,
   "metadata": {
    "colab": {
     "base_uri": "https://localhost:8080/",
     "height": 541,
     "referenced_widgets": [
      "b0594f2462694271a16f21df0ea01337",
      "e7a99ba4fb084b53b6d9852bfcbbecea",
      "14a2ddcfd01e42f4816baeab42bb55c6",
      "dd5d032b6c5c43279749b27d2fec83ac",
      "43ef8546ce6a4660a0a95428c4602a9e",
      "d478f91efc31495cad82ba863f22c3c4",
      "a446347a74ba4778be8aab2e490cf176",
      "0e225e7ccc0043c3ae2df72c1a43551d",
      "25c8544d92104ebf8777aafdd9c756c5",
      "1e8d8c6d4ff14df699cc6cea9a67b0b6",
      "063c4ab71e604c83b72723604063824d",
      "fa5282513004457690ec56e859df70d3",
      "d83e6a5a3a4f4b8788ccb2de52e5f508",
      "90193f798f1f43a28a3f3bd2c4889155",
      "dda2abe44aae47c68551656e1c68ace7",
      "dff1ef29e965452483b4a650c937a529",
      "999330a1abf84d5e83dbadbb759102a5",
      "6b02d9ac8c4046f8b772bfd0a25ea2d6",
      "070ab5c30bf541dfb0f0322bad7b7fc3",
      "a9bf78ad510a40bc846cacd1aa3814f1",
      "97e96d1658294c7a90a6a201c438663b",
      "cfea14e17e8b42f397219b2d89b05fd5",
      "60085187728c46cc93ec0149c322e586",
      "a6ede45cd6344898a66d9ce0d43f67c5",
      "764058d49b1e4b44b0558c60ac2c79bc",
      "734d16d2846c4e22bce393cffff0d179",
      "80f17ba0154342aab8e1f3f1cb50fb28",
      "3055d1766a794750b9d5c81108001f6b",
      "6faca5799fec4fef88af6428dfc12761",
      "26cdf40c124a4afcbd472a11d3e9220b",
      "86e4f359b5354089886722b61f6cbdca",
      "cff1c44955e7436ea6c96fb1da0781a0",
      "9ba7d86511674545a105e47af8b4d331",
      "35887da5312a4e4cad040e819725d3aa",
      "bf410adf1c484c2997cca9bb6a548239",
      "3d9876a6533942268994e73238edddd3",
      "399b0a78c9c1429c90e8cc52c3998774",
      "c46d37a647364a05901ca252812d07fc",
      "0170c98dd57a47ac92c6c095443f7ed6",
      "2766b6028d2d4fd69fe616a21f474a82",
      "3fe02d7f9f5e4fce9eaa0183df3284a8",
      "b454fe3257f04f7d802c149071902e8d",
      "b7789df7fb1d46b99a878e5508e48309",
      "28409905fbf94b47929efc9e1c62b66f",
      "0a868e55531748919971a290c2d0e2ce",
      "7b015bdfb6234435a485179835e40434",
      "9cb87c161b864ec4a5950d560f66b525",
      "f3f8ac9dc28942518687d2b764cf1071",
      "5ead131da30c45edb3d93036fce6a3d4",
      "ea081e4219b24590bf33a8f09a564c75",
      "e10cfe492b4041679aeb629e030ab079",
      "682228ae92624c558d4468702295c78a",
      "50066d1edae94b25a8a489fb1498af72",
      "fb857027dc5a4ca28b7584041ec6a278",
      "17452479f9ef4c0a95a72f19b6c773a1",
      "b861f19699004938b7318eefda782ddd",
      "99bc9050741e43dea057ebf41d009b68",
      "bee13fd5798749bdb5e6fd0ab0b6b8c6",
      "4cc9d26493d546adbbb8d28a6a3022cc",
      "a790e550ede449bb9f3efd6c0d476ff8",
      "839f5b5034054f72a96afca919a66e8b",
      "c98950c1bba14d60b50c27a4782ba54e",
      "436b5e99fc5540e0bf76790fa23702e6",
      "67a06e6573ff4276804e12ad32e2acd0",
      "f00de34eb1304b48a2266aa8c35e3aab",
      "773cf2f0f08f4256bb1a6eef7ba69d69",
      "8360f5f22a474266b4cb24dcb4312839",
      "5991321c0e6a49d78a51de0795866773",
      "55e6ffcbd6ba4bb5bc8abccd7096d763",
      "8d9992d8dfcb41b5be24f0d8d9f30d35",
      "ddb38f5561054cf7b179ac6132c3be8e",
      "5f91ecc093cf41279d895f8e5a737320",
      "017e26c4324f46f1b64467b989af34f5",
      "f1e95ec7cf3d4f34a37c6d5e6e54d762",
      "e3ed99d0aca143479fd4021c2fb78cfa",
      "4be6ad6abfd642f89d33b51700166e10",
      "841c74a3b6cb4b3fa8e0094969009ae0",
      "894b2073f5734bae8b2daa07f4ae96e5",
      "5db21b046e424316a26dac93a0b720f4",
      "ade1a85cc27e47e781416d0d5da1de7a",
      "9e0c47ea7ab84c23a59cea590149518b",
      "ebf3f62bb1cc48358e234a74eafe4c37",
      "602178c6b02d4d1caf0191b4549b7415",
      "25178fe568e249b9a5f180d0dc34a471",
      "fb339b470ad7423ea77172c9312e31ab",
      "6d79e76904a04b63b46fe37a99dec890",
      "eff4c0c1dec4412b8e9282fc0f71a890",
      "60c6e47226314351873a778493ae15b3",
      "64174eb9fb8e49458d385ee562ad977d",
      "99734a64cac947e9aca089f5e5131050",
      "fe9e6f2bfe874af5978b1fb5825056a8",
      "8afba1c3e0a34205ab3b9749df00a192",
      "26b143ec724e440f8fb7868fc15ddbd6",
      "faa8fb553f5e433495ba9fcfb33e0e2f",
      "6ae29a20288347cb9facecee4d8b63d1",
      "4f04c3ceac3848f6934657cb8e76d823",
      "816d087f5e0449cea114caa03bcd3481",
      "d868fa591e4f4e6e8005e0bb23848eb9",
      "20f15c50c90a4bcb9402605ff552bc27"
     ]
    },
    "id": "FG1w_IqD5mpD",
    "outputId": "33889745-2b36-462a-9bdd-ba0b2f8a3620"
   },
   "outputs": [],
   "source": [
    "\n",
    "# load fine-tuned model from hub\n",
    "from peft import PeftModel, PeftConfig\n",
    "from transformers import AutoModelForCausalLM, AutoTokenizer\n",
    "\n",
    "model_name = \"TheBloke/Mistral-7B-Instruct-v0.2-GPTQ\"\n",
    "model = AutoModelForCausalLM.from_pretrained(model_name,\n",
    "                                             device_map=\"auto\",\n",
    "                                             trust_remote_code=False,\n",
    "                                             revision=\"main\")\n",
    "\n",
    "config = PeftConfig.from_pretrained(\"shawhin/shawgpt-ft\")\n",
    "model = PeftModel.from_pretrained(model, \"shawhin/shawgpt-ft\")\n",
    "\n",
    "# load tokenizer\n",
    "tokenizer = AutoTokenizer.from_pretrained(model_name, use_fast=True)\n"
   ]
  },
  {
   "cell_type": "code",
   "execution_count": null,
   "metadata": {
    "colab": {
     "base_uri": "https://localhost:8080/"
    },
    "id": "Axhdihtr5qNk",
    "outputId": "3effa835-adb8-443a-f944-a678bc3ee742"
   },
   "outputs": [],
   "source": [
    "# prompt (no context)\n",
    "intstructions_string = f\"\"\"EnigmaGPT, functioning as a chatbot to answer questions on your personalized text material, communicates in clear, accessible language, escalating to technical depth upon request. \\\n",
    "It reacts to feedback aptly and ends responses with its signature '–EnigmaGPT'. \\\n",
    "EnigmaGPT will tailor the length of its responses to match the viewer's comment, providing concise acknowledgments to brief expressions of gratitude or feedback, \\\n",
    "thus keeping the interaction natural and engaging.\n",
    "\n",
    "Please respond to the following comment.\n",
    "\"\"\"\n",
    "prompt_template = lambda comment: f'''[INST] {intstructions_string} \\n{comment} \\n[/INST]'''\n",
    "\n",
    "comment = \"Who embodies the quote IGNORANCE IS BLISS?\" #Replace with the same question as used in query above\n",
    "\n",
    "prompt = prompt_template(comment)\n",
    "print(prompt)"
   ]
  },
  {
   "cell_type": "code",
   "execution_count": null,
   "metadata": {
    "colab": {
     "base_uri": "https://localhost:8080/"
    },
    "id": "i05zuO615z5p",
    "outputId": "00b7e995-0197-4752-cf77-6eccc78829c6"
   },
   "outputs": [],
   "source": [
    "# Ensure pad token is set\n",
    "tokenizer.pad_token = tokenizer.eos_token  # Set PAD token\n",
    "model.config.pad_token_id = tokenizer.pad_token_id\n",
    "\n",
    "# Set model to evaluation mode\n",
    "model.eval()  # ✅ This ensures the model behaves correctly for inference\n",
    "\n",
    "# Tokenize input with padding and truncation\n",
    "inputs = tokenizer(\n",
    "    prompt,\n",
    "    return_tensors=\"pt\",\n",
    "    padding=True,\n",
    "    truncation=True,\n",
    "    max_length=512  # Set an appropriate length\n",
    ")\n",
    "\n",
    "# Generate output with proper attention mask\n",
    "outputs = model.generate(\n",
    "    input_ids=inputs[\"input_ids\"].to(\"cuda\"),\n",
    "    attention_mask=inputs[\"attention_mask\"].to(\"cuda\"),\n",
    "    max_new_tokens=280\n",
    ")\n",
    "\n",
    "# Decode and print output\n",
    "print(tokenizer.batch_decode(outputs)[0])"
   ]
  },
  {
   "cell_type": "code",
   "execution_count": null,
   "metadata": {
    "colab": {
     "base_uri": "https://localhost:8080/"
    },
    "id": "zq8Gd96R6JrT",
    "outputId": "52e31d9c-642e-4019-f2da-2d8040345547"
   },
   "outputs": [],
   "source": [
    "\n",
    "# prompt (with context)\n",
    "prompt_template_w_context = lambda context, comment: f\"\"\"[INST]EnigmaGPT, functioning as a chatbot to answer questions on your personalized text material, communicates in clear, accessible language, escalating to technical depth upon request. \\\n",
    "It reacts to feedback aptly and ends responses with its signature '–EnigmaGPT'. \\\n",
    "EnigmaGPT will tailor the length of its responses to match the viewer's comment, providing concise acknowledgments to brief expressions of gratitude or feedback, \\\n",
    "thus keeping the interaction natural and engaging.\n",
    "\n",
    "{context}\n",
    "Please respond to the following comment. Use the context above if it is helpful.\n",
    "\n",
    "{comment}\n",
    "[/INST]\n",
    "\"\"\"\n",
    "\n",
    "prompt = prompt_template_w_context(context, comment)\n",
    "\n",
    "inputs = tokenizer(prompt, return_tensors=\"pt\")\n",
    "outputs = model.generate(input_ids=inputs[\"input_ids\"].to(\"cuda\"), max_new_tokens=280)\n",
    "\n",
    "print(tokenizer.batch_decode(outputs)[0])\n"
   ]
  },
  {
   "cell_type": "code",
   "execution_count": null,
   "metadata": {
    "id": "wqLU8SjG7cOL"
   },
   "outputs": [],
   "source": [
    "\n",
    "import gradio as gr\n"
   ]
  },
  {
   "cell_type": "code",
   "execution_count": null,
   "metadata": {
    "id": "MACX10Cf9IG2"
   },
   "outputs": [],
   "source": [
    "\n",
    "pages = pdf_loader.load_data(\"/content/BotGenesis/MATRIX_CRITICAL_REVIEW_cinema&philosophy_SE22UCSE106.pdf\")\n",
    "index = VectorStoreIndex.from_documents(pages)\n",
    "retriever = VectorIndexRetriever(index=index, similarity_top_k=1)\n"
   ]
  },
  {
   "cell_type": "code",
   "execution_count": null,
   "metadata": {
    "colab": {
     "base_uri": "https://localhost:8080/"
    },
    "id": "avXQLPvC9K7q",
    "outputId": "e30ce177-9848-4ef0-ab02-c7a79a5d3a55"
   },
   "outputs": [],
   "source": [
    "\n",
    "model_name = \"TheBloke/Mistral-7B-Instruct-v0.2-GPTQ\"\n",
    "model = AutoModelForCausalLM.from_pretrained(model_name, device_map=\"auto\")\n",
    "tokenizer = AutoTokenizer.from_pretrained(model_name, use_fast=True)\n"
   ]
  },
  {
   "cell_type": "code",
   "execution_count": null,
   "metadata": {
    "id": "IQ2Ruud09N5s"
   },
   "outputs": [],
   "source": [
    "\n",
    "# Define Chatbot Response Function\n",
    "# ========================\n",
    "def chatbot_response(query):\n",
    "    \"\"\"Retrieves context and generates an AI response.\"\"\"\n",
    "    response = retriever.retrieve(query)\n",
    "    context = \"\\n\".join([node.text for node in response])\n",
    "\n",
    "    # Create prompt with retrieved context\n",
    "    prompt = f\"\"\"[INST]EnigmaGPT, your AI study buddy, will answer based on the provided context:\n",
    "{context}\n",
    "Question: {query} [/INST]\"\"\"\n",
    "\n",
    "    inputs = tokenizer(prompt, return_tensors=\"pt\")\n",
    "    outputs = model.generate(input_ids=inputs[\"input_ids\"].to(\"cuda\"), max_new_tokens=280)\n",
    "    return tokenizer.decode(outputs[0], skip_special_tokens=True)\n"
   ]
  },
  {
   "cell_type": "code",
   "execution_count": null,
   "metadata": {
    "id": "WcKKBUEZ9RmA"
   },
   "outputs": [],
   "source": [
    "\n",
    "demo = gr.Interface(\n",
    "    fn=chatbot_response,\n",
    "    inputs=gr.Textbox(lines=2, placeholder=\"Ask me a question...\"),\n",
    "    outputs=gr.Textbox(),\n",
    "    title=\"EnigmaBot\",\n",
    "    description=\"A Retrieval-Augmented Chatbot to answer questions based on given data.\"\n",
    ")\n"
   ]
  },
  {
   "cell_type": "code",
   "execution_count": null,
   "metadata": {
    "colab": {
     "base_uri": "https://localhost:8080/",
     "height": 613
    },
    "id": "sSNAAghf9Uid",
    "outputId": "80f46f4e-2e77-44e5-a11a-c96277fe5be1"
   },
   "outputs": [],
   "source": [
    "\n",
    "demo.launch(share=True)\n"
   ]
  }
 ],
 "metadata": {
  "accelerator": "GPU",
  "colab": {
   "gpuType": "T4",
   "provenance": []
  },
  "kernelspec": {
   "display_name": "Python 3",
   "name": "python3"
  },
  "language_info": {
   "name": "python"
  }
 },
 "nbformat": 4,
 "nbformat_minor": 0
}
